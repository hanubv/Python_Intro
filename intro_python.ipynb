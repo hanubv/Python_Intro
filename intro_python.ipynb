{
  "nbformat": 4,
  "nbformat_minor": 0,
  "metadata": {
    "colab": {
      "provenance": [],
      "authorship_tag": "ABX9TyMD83mUbrAfGGkCxWbM0H0G"
    },
    "kernelspec": {
      "name": "python3",
      "display_name": "Python 3"
    },
    "language_info": {
      "name": "python"
    }
  },
  "cells": [
    {
      "cell_type": "markdown",
      "source": [
        "1. What is Python and example of any real world usecase- Done\n",
        "2. Python Hello World- done\n",
        "3. Variables and its properties- done\n",
        "4. Strings and its properties\n",
        "5. String concatenation\n",
        "6. For loops\n",
        "7. Lists\n",
        "8. Slicing\n",
        "9. Looping through lists\n",
        "10. List methods(Sort, insert, append, delete, remove, pop)\n",
        "11. Tuples\n",
        "12. Dictionaries and working with dictionaries\n",
        "13. User inputs\n",
        "14. Functions and its usage\n",
        "15. Conditional statements\n",
        "16. Comments\n",
        "\n",
        "\n",
        "\n",
        "\n",
        "\n"
      ],
      "metadata": {
        "id": "-eZFNG2c4SdU"
      }
    },
    {
      "cell_type": "code",
      "execution_count": null,
      "metadata": {
        "id": "DRqcOzPG4Nvd",
        "colab": {
          "base_uri": "https://localhost:8080/"
        },
        "outputId": "63c0569c-3a1b-4f67-ccf3-527d82a3c2f5"
      },
      "outputs": [
        {
          "output_type": "stream",
          "name": "stdout",
          "text": [
            "Hello world\n"
          ]
        }
      ],
      "source": [
        "#Hello World\n",
        "print(\"Hello world\")"
      ]
    },
    {
      "cell_type": "code",
      "source": [
        "#Variables and Data Types\n",
        "intro = \"hello world\"\n",
        "print(intro)"
      ],
      "metadata": {
        "id": "im6bUpwh7ov3",
        "colab": {
          "base_uri": "https://localhost:8080/"
        },
        "outputId": "4aa95402-512c-4352-b6df-9446f1b63e6f"
      },
      "execution_count": null,
      "outputs": [
        {
          "output_type": "stream",
          "name": "stdout",
          "text": [
            "hello world\n"
          ]
        }
      ]
    },
    {
      "cell_type": "code",
      "source": [
        "#Strings and its methods\n",
        "intro = \"hello world\"\n",
        "#Length\n",
        "print(len(intro))\n"
      ],
      "metadata": {
        "id": "Ps2pvyok_oFv",
        "colab": {
          "base_uri": "https://localhost:8080/"
        },
        "outputId": "5b33d877-2f82-4fb2-804b-b4f50ca926f9"
      },
      "execution_count": null,
      "outputs": [
        {
          "output_type": "stream",
          "name": "stdout",
          "text": [
            "11\n"
          ]
        }
      ]
    },
    {
      "cell_type": "code",
      "source": [
        "#String conversion methods\n",
        "#Title\n",
        "print(intro.title())\n",
        "intro = \"helloworld\"\n",
        "print(intro.title())"
      ],
      "metadata": {
        "colab": {
          "base_uri": "https://localhost:8080/"
        },
        "id": "4f-UUc-GnK4q",
        "outputId": "c2b7096c-c27f-41c6-ff83-de12c3307e31"
      },
      "execution_count": null,
      "outputs": [
        {
          "output_type": "stream",
          "name": "stdout",
          "text": [
            "Hello World\n",
            "Helloworld\n"
          ]
        }
      ]
    },
    {
      "cell_type": "code",
      "source": [
        "#String conversion methods\n",
        "#upper()\n",
        "intro = \"hello world\"\n",
        "print(intro.upper())"
      ],
      "metadata": {
        "colab": {
          "base_uri": "https://localhost:8080/"
        },
        "id": "YLiJERPonxI1",
        "outputId": "251d70cf-7bd9-4057-87c9-db555a9d75c7"
      },
      "execution_count": null,
      "outputs": [
        {
          "output_type": "stream",
          "name": "stdout",
          "text": [
            "HELLO WORLD\n"
          ]
        }
      ]
    },
    {
      "cell_type": "code",
      "source": [
        "#String conversion methods\n",
        "#lower()\n",
        "intro = \"HELLO WORLD\"\n",
        "print(intro.lower())\n",
        "print(intro.title())\n"
      ],
      "metadata": {
        "colab": {
          "base_uri": "https://localhost:8080/"
        },
        "id": "e4pAVNQ-oB5E",
        "outputId": "ff223019-9607-42c6-d3fb-54b9932c3dda"
      },
      "execution_count": null,
      "outputs": [
        {
          "output_type": "stream",
          "name": "stdout",
          "text": [
            "hello world\n",
            "Hello World\n",
            "\n"
          ]
        }
      ]
    },
    {
      "cell_type": "code",
      "source": [
        "#Accessing elements from the string\n",
        "user_name = \"Alex\"\n",
        "print(user_name[0])"
      ],
      "metadata": {
        "colab": {
          "base_uri": "https://localhost:8080/"
        },
        "id": "nAJGwRsVoty1",
        "outputId": "42a42beb-0819-462e-a100-74ed41488a57"
      },
      "execution_count": null,
      "outputs": [
        {
          "output_type": "stream",
          "name": "stdout",
          "text": [
            "p\n"
          ]
        }
      ]
    },
    {
      "cell_type": "code",
      "source": [
        "#String concatenation\n",
        "first_name = \"vikas\"\n",
        "last_name = \"kumar\"\n",
        "age = 23\n",
        "\n",
        "print(type(first_name))\n",
        "print(type(last_name))\n",
        "print(type(age))\n",
        "\n",
        "\n",
        "user_name = first_name+\" \"+last_name\n",
        "print(\"user name: \", user_name)\n",
        "print(\"age: \", age)\n",
        "#print(first_name)\n",
        "print(last_name)\n",
        "print(user_name)\n",
        "\n",
        "first_name = \"bhanu\"\n",
        "print(first_name)\n",
        "\n",
        "print(user_name+\" and his age is \"+str(age)+\" years old\")"
      ],
      "metadata": {
        "id": "SErweKIT_oCb",
        "colab": {
          "base_uri": "https://localhost:8080/"
        },
        "outputId": "080e84c2-f0f2-48b7-92ce-37d14f29b01b"
      },
      "execution_count": null,
      "outputs": [
        {
          "output_type": "stream",
          "name": "stdout",
          "text": [
            "<class 'str'>\n",
            "<class 'str'>\n",
            "<class 'int'>\n",
            "user name:  vikas kumar\n",
            "age:  23\n",
            "kumar\n",
            "vikas kumar\n",
            "bhanu\n",
            "vikas kumar and his age is 23 years old\n"
          ]
        }
      ]
    },
    {
      "cell_type": "code",
      "source": [
        "#Lists\n",
        "#ex: motorcycles = ['honda', 'yamaha', 'suzuki']\n",
        "#Accessing, indexing, using individual Values, Finding Length, title(), lower(), upper()\n",
        "\n",
        "motorcycles = ['honda', 'yamaha', 'suzuki']\n",
        "\n",
        "\n",
        "print(len(motorcycles))\n",
        "print(motorcycles[-1])\n",
        "#Accessing elements\n",
        "print(motorcycles[0]) #list indexing method\n",
        "print(\"\\n\")\n",
        "print(motorcycles[0].title())\n",
        "\n",
        "print(motorcycles[-2].title())"
      ],
      "metadata": {
        "id": "njPfMnRg_n__",
        "colab": {
          "base_uri": "https://localhost:8080/"
        },
        "outputId": "daa44686-b284-4834-b551-6fc44ccd468a"
      },
      "execution_count": null,
      "outputs": [
        {
          "output_type": "stream",
          "name": "stdout",
          "text": [
            "3\n",
            "suzuki\n"
          ]
        }
      ]
    },
    {
      "cell_type": "code",
      "source": [
        "details = ['vikash', 'kumar', 23, 'engineer', 10.3]\n",
        "#Using list individual values\n",
        "user_name1 = details[0], details[1]\n",
        "user_name2 = details[0]+\" \"+details[1] #String concatenation\n",
        "print(type(user_name1))\n",
        "print(type(user_name2))\n",
        "\n",
        "\n",
        "print(user_name1)\n",
        "print(user_name2)"
      ],
      "metadata": {
        "colab": {
          "base_uri": "https://localhost:8080/"
        },
        "id": "XF9WL_hws5rK",
        "outputId": "3d160eb7-4283-4e7f-f533-5a15b3edc047"
      },
      "execution_count": null,
      "outputs": [
        {
          "output_type": "stream",
          "name": "stdout",
          "text": [
            "<class 'tuple'>\n",
            "<class 'str'>\n",
            "('vikash', 'kumar')\n",
            "vikash kumar\n"
          ]
        }
      ]
    },
    {
      "cell_type": "code",
      "source": [
        "print(type(user_name1))\n",
        "print(\"The candidate name is:\", user_name2.title())\n",
        "print(len(user_name2))\n",
        "print(\"The candidate name is:\", user_name2.upper())\n",
        "\n",
        "print(\"The candidate age is:\", details[2])\n",
        "#print(user_name.title(),\" is working as an \"+ details[-2],\" in Tata consultancy services and he was selected with a package of\",str(details[-1]),\"LPA\")\n",
        "print()"
      ],
      "metadata": {
        "colab": {
          "base_uri": "https://localhost:8080/"
        },
        "id": "E_uQ4KavykCq",
        "outputId": "91bd33b3-6933-42cb-83be-3f335538bcbc"
      },
      "execution_count": null,
      "outputs": [
        {
          "output_type": "stream",
          "name": "stdout",
          "text": [
            "<class 'tuple'>\n",
            "The candidate name is: Vikash Kumar\n",
            "12\n",
            "The candidate name is: VIKASH KUMAR\n",
            "The candidate age is: 23\n",
            "\n"
          ]
        }
      ]
    },
    {
      "cell_type": "code",
      "source": [
        "#Finding Length\n",
        "details = ['vikash', 'kumar', 23, 'engineer', 10.3]\n",
        "length = len(details)\n",
        "print(length)"
      ],
      "metadata": {
        "colab": {
          "base_uri": "https://localhost:8080/"
        },
        "id": "9t7C-n53zTGa",
        "outputId": "3086d1ec-1e30-4cbe-a225-c67f645d46aa"
      },
      "execution_count": null,
      "outputs": [
        {
          "output_type": "stream",
          "name": "stdout",
          "text": [
            "5\n"
          ]
        }
      ]
    },
    {
      "cell_type": "code",
      "source": [
        "#List modification\n",
        "#insert, append, pop, delete, remove, index errors\n",
        "motorcycles = ['honda', 'yamaha', 'suzuki']\n",
        "print(\"Before adding values to the list:\")\n",
        "print(motorcycles)\n",
        "#Using append\n",
        "motorcycles.append(\"hero\")\n",
        "print(\"\\nafter the list modification the new list will be:\")\n",
        "print(motorcycles)\n",
        "\n",
        "\n",
        "#using insert\n",
        "motorcycles.insert(1, \"TVS\")\n",
        "print()\n",
        "print(\"After inserting value at index 1 position\")\n",
        "print(motorcycles)"
      ],
      "metadata": {
        "id": "9_grdWeL_n9X",
        "colab": {
          "base_uri": "https://localhost:8080/"
        },
        "outputId": "c0a38d6c-b147-4d17-c135-110255cade2f"
      },
      "execution_count": null,
      "outputs": [
        {
          "output_type": "stream",
          "name": "stdout",
          "text": [
            "Before adding values to the list:\n",
            "['honda', 'yamaha', 'suzuki']\n",
            "\n",
            "after the list modification the new list will be:\n",
            "['honda', 'yamaha', 'suzuki', 'hero']\n",
            "\n",
            "After inserting value at index 1 position\n",
            "['honda', 'TVS', 'yamaha', 'suzuki', 'hero']\n"
          ]
        }
      ]
    },
    {
      "cell_type": "code",
      "source": [
        "#Delete using del\n",
        "\"\"\"\n",
        "del motorcycles[0]\n",
        "print(motorcycles)\n",
        "\n",
        "#remove()\n",
        "motorcycles.remove('suzuki')\n",
        "print(motorcycles)\n",
        "\"\"\"\n",
        "#pop\n",
        "print(motorcycles)\n",
        "popped_item = motorcycles.pop()\n",
        "print(\"my old motorcycles was \"+popped_item.title()+\" which I loved the most\")"
      ],
      "metadata": {
        "colab": {
          "base_uri": "https://localhost:8080/"
        },
        "id": "qGMOHYccriQg",
        "outputId": "f5d7c1ac-5591-4c60-b33e-713b6455c198"
      },
      "execution_count": null,
      "outputs": [
        {
          "output_type": "stream",
          "name": "stdout",
          "text": [
            "['honda', 'TVS', 'yamaha', 'suzuki']\n",
            "my old motorcycles was Suzuki which I loved the most\n"
          ]
        }
      ]
    },
    {
      "cell_type": "code",
      "source": [
        "#List slicing, List comphrensions\n",
        "my_bikes = ['honda', 'TVS', 'yamaha', 'suzuki', 'hero']\n",
        "print(my_bikes)\n",
        "print(\"There are many bikes which I used earlier before buying this new bike\")\n",
        "print(my_bikes[1:])"
      ],
      "metadata": {
        "id": "5_bCtgp8_n6y",
        "colab": {
          "base_uri": "https://localhost:8080/"
        },
        "outputId": "b81fceb7-21fc-41eb-9a5c-fb18efa4604e"
      },
      "execution_count": null,
      "outputs": [
        {
          "output_type": "stream",
          "name": "stdout",
          "text": [
            "['honda', 'TVS', 'yamaha', 'suzuki', 'hero']\n",
            "There are many bikes which I used earlier before buying this new bike\n",
            "['TVS', 'yamaha', 'suzuki', 'hero']\n"
          ]
        }
      ]
    },
    {
      "cell_type": "code",
      "source": [
        "my_bikes = ['honda', 'TVS', 'yamaha', 'suzuki', 'hero']\n",
        "print(my_bikes)\n",
        "#List Slicing syntax\n",
        "#list_name[start:end:step]\n",
        "print(\"There are many bikes which I used earlier before buying this new bike\")\n",
        "print(my_bikes[1:5])\n",
        "print(my_bikes[:5])"
      ],
      "metadata": {
        "colab": {
          "base_uri": "https://localhost:8080/"
        },
        "id": "NxlOViDQvm-Z",
        "outputId": "626abe11-2f70-4309-e49a-e4736ff4de91"
      },
      "execution_count": null,
      "outputs": [
        {
          "output_type": "stream",
          "name": "stdout",
          "text": [
            "['honda', 'TVS', 'yamaha', 'suzuki', 'hero']\n",
            "There are many bikes which I used earlier before buying this new bike\n",
            "['TVS', 'suzuki']\n",
            "['honda', 'TVS', 'yamaha', 'suzuki', 'hero']\n"
          ]
        }
      ]
    },
    {
      "cell_type": "code",
      "source": [
        "#List slicing\n",
        "my_bikes = ['honda', 'TVS', 'yamaha', 'suzuki', 'hero']\n",
        "print(my_bikes)\n",
        "print(my_bikes[0:5:3]) #start=0, end=5-1(end-1), step = 2"
      ],
      "metadata": {
        "colab": {
          "base_uri": "https://localhost:8080/"
        },
        "id": "kmvWz6fuwwKL",
        "outputId": "ad7d3223-96d9-41eb-d39b-d35bf6afe1c1"
      },
      "execution_count": null,
      "outputs": [
        {
          "output_type": "stream",
          "name": "stdout",
          "text": [
            "['honda', 'TVS', 'yamaha', 'suzuki', 'hero']\n",
            "['honda', 'suzuki']\n"
          ]
        }
      ]
    },
    {
      "cell_type": "code",
      "source": [
        "#Squres\n",
        "my_list = [2, 3, 4]\n",
        "print(my_list)\n",
        "for i in my_list:\n",
        "  print(i*i, end =\" \")"
      ],
      "metadata": {
        "colab": {
          "base_uri": "https://localhost:8080/"
        },
        "id": "HpCr8l8Kxyr8",
        "outputId": "57ef8ef0-89c0-4068-c0aa-c4c87faa849e"
      },
      "execution_count": null,
      "outputs": [
        {
          "output_type": "stream",
          "name": "stdout",
          "text": [
            "[2, 3, 4]\n",
            "4 9 16 "
          ]
        }
      ]
    },
    {
      "cell_type": "code",
      "source": [
        "my_list = [2, 3, 4]\n",
        "#Finding squares of elements of the list using list comphrehensions\n",
        "print([value**2 for value in my_list])"
      ],
      "metadata": {
        "colab": {
          "base_uri": "https://localhost:8080/"
        },
        "id": "3hL1nk5SyhNQ",
        "outputId": "950c7932-fa8c-47a8-efdd-fda6ef797b81"
      },
      "execution_count": null,
      "outputs": [
        {
          "output_type": "stream",
          "name": "stdout",
          "text": [
            "[4, 9, 16]\n"
          ]
        }
      ]
    },
    {
      "cell_type": "code",
      "source": [
        "#conditional statements\n",
        "my_list = [2, 3, 4]\n",
        "n = 2\n",
        "#if statement\n",
        "#if else statements\n",
        "#if else if and else statements\n",
        "if n in my_list:\n",
        "  print(True)"
      ],
      "metadata": {
        "id": "HGf-_rD6MysA",
        "colab": {
          "base_uri": "https://localhost:8080/"
        },
        "outputId": "6e28b7ac-a534-4cc6-97e7-8d8986b8d190"
      },
      "execution_count": null,
      "outputs": [
        {
          "output_type": "stream",
          "name": "stdout",
          "text": [
            "True\n"
          ]
        }
      ]
    },
    {
      "cell_type": "code",
      "source": [
        "#Conditional Tests\n",
        "print(\"bus\"==\"BUS\")\n",
        "print(\"hey python\")\n",
        "print(2+3)\n",
        "\n",
        "print(\"bus\"==\"BUS\".lower())"
      ],
      "metadata": {
        "colab": {
          "base_uri": "https://localhost:8080/"
        },
        "id": "fG-W_cvZaPZU",
        "outputId": "4a4f0fae-7239-461c-9b4b-94fe9cd7965a"
      },
      "execution_count": 4,
      "outputs": [
        {
          "output_type": "stream",
          "name": "stdout",
          "text": [
            "False\n",
            "hey python\n",
            "5\n",
            "True\n"
          ]
        }
      ]
    },
    {
      "cell_type": "code",
      "source": [
        "my_bikes = ['honda', 'TVS', 'yamaha', 'suzuki', 'hero']\n",
        "#print(my_bikes)\n",
        "\n",
        "my_new_bike = \"RE\"\n",
        "\n",
        "if my_new_bike not in my_bikes:\n",
        "    print(\"you haven't owned a RE bike so far\")\n",
        "else:\n",
        "  print(\"Oh ok it is there inside the list\")\n"
      ],
      "metadata": {
        "colab": {
          "base_uri": "https://localhost:8080/"
        },
        "id": "lMLob720Jlfg",
        "outputId": "9afe4105-f437-4f8a-de0d-c9ebc1bfeb7f"
      },
      "execution_count": 6,
      "outputs": [
        {
          "output_type": "stream",
          "name": "stdout",
          "text": [
            "you haven't owned a RE bike so far\n"
          ]
        }
      ]
    },
    {
      "cell_type": "code",
      "source": [
        "my_bikes = ['honda', 'TVS', 'yamaha', 'suzuki', 'hero']\n",
        "#print(my_bikes)\n",
        "\n",
        "my_new_bike = \"RE\"\n",
        "\n",
        "#checking the conditions\n",
        "if my_new_bike in my_bikes:\n",
        "  print(\"item is matching\")\n",
        "\n",
        "else:\n",
        "  print(\"no item is matching\")\n",
        "\n"
      ],
      "metadata": {
        "colab": {
          "base_uri": "https://localhost:8080/"
        },
        "id": "Nsj4i97OKnQ2",
        "outputId": "938eb98b-d4a9-4d42-cf7b-600a0d8e7247"
      },
      "execution_count": 10,
      "outputs": [
        {
          "output_type": "stream",
          "name": "stdout",
          "text": [
            "no item is matching\n"
          ]
        }
      ]
    },
    {
      "cell_type": "markdown",
      "source": [
        "Practice if else if and else on your own"
      ],
      "metadata": {
        "id": "oPubsCX5LWEP"
      }
    },
    {
      "cell_type": "code",
      "source": [
        "#Organising list\n",
        "my_bikes = ['honda', 'tvs', 'yamaha', 'suzuki', 'hero']\n",
        "print(\"Before sorting the given list is look like below:\")\n",
        "print(my_bikes)\n",
        "my_bikes.sort()\n",
        "print(\"after sorting\")\n",
        "print(my_bikes)\n",
        "\n",
        "\n",
        "\"\"\" Read sorted() on your own\"\"\""
      ],
      "metadata": {
        "id": "-m0hc94Z_nlo",
        "colab": {
          "base_uri": "https://localhost:8080/"
        },
        "outputId": "9e87124f-10d9-46cf-ac01-b220f9c98072"
      },
      "execution_count": 14,
      "outputs": [
        {
          "output_type": "stream",
          "name": "stdout",
          "text": [
            "Before sorting the given list is look like below:\n",
            "['honda', 'tvs', 'yamaha', 'suzuki', 'hero']\n",
            "after sorting\n",
            "['hero', 'honda', 'suzuki', 'tvs', 'yamaha']\n"
          ]
        }
      ]
    },
    {
      "cell_type": "code",
      "source": [
        "#List reversing\n",
        "print(my_bikes[::-1])"
      ],
      "metadata": {
        "colab": {
          "base_uri": "https://localhost:8080/"
        },
        "id": "ytENjmIeOSsh",
        "outputId": "6277636b-be00-4655-e32f-474ed1f5a5f2"
      },
      "execution_count": 15,
      "outputs": [
        {
          "output_type": "stream",
          "name": "stdout",
          "text": [
            "['yamaha', 'tvs', 'suzuki', 'honda', 'hero']\n"
          ]
        }
      ]
    },
    {
      "cell_type": "code",
      "source": [
        "#Starting with empty dictionaries\n",
        "bikes = []\n",
        "#The same below operation you can do using user inputs\n",
        "first_bike = \"hero\"\n",
        "second_bike = \"honda\"\n",
        "name =  first_bike, second_bike\n",
        "bikes.append(first_bike)\n",
        "bikes.append(second_bike)\n",
        "print(bikes)"
      ],
      "metadata": {
        "colab": {
          "base_uri": "https://localhost:8080/"
        },
        "id": "YyZ7mX7_NRqq",
        "outputId": "0e8d8e34-583b-4e07-f93d-95114a66ca25"
      },
      "execution_count": 33,
      "outputs": [
        {
          "output_type": "stream",
          "name": "stdout",
          "text": [
            "['hero', 'honda']\n"
          ]
        }
      ]
    },
    {
      "cell_type": "code",
      "source": [
        "print(bikes)"
      ],
      "metadata": {
        "colab": {
          "base_uri": "https://localhost:8080/"
        },
        "id": "rcj_JMdvPPZ_",
        "outputId": "17efb54d-e3cf-4d4c-be4d-0cbc7eb24bbd"
      },
      "execution_count": 19,
      "outputs": [
        {
          "output_type": "stream",
          "name": "stdout",
          "text": [
            "['hero', 'honda']\n"
          ]
        }
      ]
    },
    {
      "cell_type": "code",
      "source": [
        "#Looping through lists\n",
        "my_list = [1, 2, 3, 4]\n",
        "length = len(my_list)\n",
        "#Syntax of range: range(start, step, end-1(end value))\n",
        "for i in range(length):\n",
        "  #print(i)\n",
        "  print(my_list[i]**2, end= \" \")\n"
      ],
      "metadata": {
        "id": "z8c_BrwtBzhb",
        "colab": {
          "base_uri": "https://localhost:8080/"
        },
        "outputId": "02e42f6f-5f72-4a6c-be21-88541c1b3cb1"
      },
      "execution_count": 25,
      "outputs": [
        {
          "output_type": "stream",
          "name": "stdout",
          "text": [
            "1 4 9 16 "
          ]
        }
      ]
    },
    {
      "cell_type": "code",
      "source": [
        "my_list = [1, 2, 3, 4]\n",
        "for i in my_list:\n",
        "  print(i**2, end =\" \")"
      ],
      "metadata": {
        "colab": {
          "base_uri": "https://localhost:8080/"
        },
        "id": "TJRjLhTdRpaH",
        "outputId": "ec634336-ade8-49e3-a0b4-fb85fb45cb33"
      },
      "execution_count": 26,
      "outputs": [
        {
          "output_type": "stream",
          "name": "stdout",
          "text": [
            "1 4 9 16 "
          ]
        }
      ]
    },
    {
      "cell_type": "code",
      "source": [
        "#Dealing with indentation error\n",
        "my_list = [1, 2, 3, 4]\n",
        "for i in my_list:\n",
        "  print(i**2, end =\" \")\n",
        "print()\n",
        "print(\"The above values are the squares of the given list\")"
      ],
      "metadata": {
        "id": "3VqljSfuBzd_",
        "colab": {
          "base_uri": "https://localhost:8080/"
        },
        "outputId": "4876c332-64e7-410b-c7ce-87ab1ad3e358"
      },
      "execution_count": 29,
      "outputs": [
        {
          "output_type": "stream",
          "name": "stdout",
          "text": [
            "1 4 9 16 \n",
            "The above values are the squares of the given list\n"
          ]
        }
      ]
    },
    {
      "cell_type": "code",
      "source": [
        "#Copying a list\n",
        "my_list = [1, 2, 3, 4]\n",
        "print(my_list)\n",
        "my_new_list = my_list[:]\n",
        "print(my_new_list)"
      ],
      "metadata": {
        "id": "8uvrf2wCBzbF",
        "colab": {
          "base_uri": "https://localhost:8080/"
        },
        "outputId": "5c34fa17-f680-45e3-930c-1f0eacec52f7"
      },
      "execution_count": 31,
      "outputs": [
        {
          "output_type": "stream",
          "name": "stdout",
          "text": [
            "[1, 2, 3, 4]\n",
            "[1, 2, 3, 4]\n"
          ]
        }
      ]
    },
    {
      "cell_type": "code",
      "source": [
        "#Tuples- Creating, accessing, looping\n",
        "dimensions = (200, 50)\n",
        "print(dimensions[0])\n",
        "for dimension in dimensions:\n",
        "  print(dimension*dimension)"
      ],
      "metadata": {
        "id": "xDjx8xWqB7d2",
        "colab": {
          "base_uri": "https://localhost:8080/"
        },
        "outputId": "97f986b7-2357-4c1e-c497-380e79d7c767"
      },
      "execution_count": 38,
      "outputs": [
        {
          "output_type": "stream",
          "name": "stdout",
          "text": [
            "200\n",
            "40000\n",
            "2500\n"
          ]
        }
      ]
    },
    {
      "cell_type": "code",
      "source": [
        "#User inputs\n",
        "list1  = []\n",
        "user_input = input(\"enter your input: \")\n",
        "list1.append(user_input)\n",
        "print(list1)"
      ],
      "metadata": {
        "id": "7EeDO43vM5g3",
        "colab": {
          "base_uri": "https://localhost:8080/"
        },
        "outputId": "25c17e47-8595-4626-8413-d1066c759ff6"
      },
      "execution_count": 40,
      "outputs": [
        {
          "output_type": "stream",
          "name": "stdout",
          "text": [
            "enter your input: 1000000\n",
            "['1000000']\n"
          ]
        }
      ]
    },
    {
      "cell_type": "code",
      "source": [
        "#Dictionaries- creating, accessing, adding new key value pairs, staring with empty dict, #looping(keys, values and key-value pair)\n",
        "\n",
        "#Creating dict\n",
        "favorite_languages = {\n",
        "    'jen': 'python',\n",
        "    'sarah': 'c',\n",
        "    'edward': 'ruby',\n",
        "    'phil': 'python',\n",
        "    }\n",
        "\n",
        "print(favorite_languages)"
      ],
      "metadata": {
        "id": "jc8rnGO0B7aQ",
        "colab": {
          "base_uri": "https://localhost:8080/"
        },
        "outputId": "0b3a73c8-ae7a-4b66-8d5a-45a918e44490"
      },
      "execution_count": 41,
      "outputs": [
        {
          "output_type": "stream",
          "name": "stdout",
          "text": [
            "{'jen': 'python', 'sarah': 'c', 'edward': 'ruby', 'phil': 'python'}\n"
          ]
        }
      ]
    },
    {
      "cell_type": "code",
      "source": [
        "#Accessing\n",
        "print(\"sarah favorite language is \", favorite_languages['sarah'])"
      ],
      "metadata": {
        "colab": {
          "base_uri": "https://localhost:8080/"
        },
        "id": "GeChqPZ-VbgY",
        "outputId": "20d20306-6962-42ec-8663-de58fab6a0af"
      },
      "execution_count": 44,
      "outputs": [
        {
          "output_type": "stream",
          "name": "stdout",
          "text": [
            "sarah favorite language is  c\n"
          ]
        }
      ]
    },
    {
      "cell_type": "code",
      "source": [
        "#adding new key value pair to the dictionary\n",
        "favorite_languages['bhanu'] = \"Machine Learning\"\n",
        "print(favorite_languages)"
      ],
      "metadata": {
        "colab": {
          "base_uri": "https://localhost:8080/"
        },
        "id": "2RCtX-pvW3NP",
        "outputId": "f9348dd4-2a41-4f53-83c0-fce9209e401d"
      },
      "execution_count": 46,
      "outputs": [
        {
          "output_type": "stream",
          "name": "stdout",
          "text": [
            "{'jen': 'python', 'sarah': 'c', 'edward': 'ruby', 'phil': 'python', 'bhanu': 'Machine Learning'}\n"
          ]
        }
      ]
    },
    {
      "cell_type": "code",
      "source": [
        "#staring with empty dict\n",
        "favorite_languages = {}\n",
        "favorite_languages['bhanu'] = \"Machine Learning\"\n",
        "print(favorite_languages)"
      ],
      "metadata": {
        "colab": {
          "base_uri": "https://localhost:8080/"
        },
        "id": "YMTKmLQpXRHv",
        "outputId": "1bf0a297-8f75-453e-c6da-1bda3bdeeb99"
      },
      "execution_count": 47,
      "outputs": [
        {
          "output_type": "stream",
          "name": "stdout",
          "text": [
            "{'bhanu': 'Machine Learning'}\n"
          ]
        }
      ]
    },
    {
      "cell_type": "code",
      "source": [
        "#Looping through the dictionaries\n",
        "favorite_languages = {\n",
        "    'jen': 'Python',\n",
        "    'sarah': 'c',\n",
        "    'edward': 'ruby',\n",
        "    'jen': 'R',\n",
        "    }\n",
        "\n",
        "for key, values in favorite_languages.items():\n",
        "  print(key, values)"
      ],
      "metadata": {
        "colab": {
          "base_uri": "https://localhost:8080/"
        },
        "id": "MrqH5bcJXoqY",
        "outputId": "d9123d5e-5085-44eb-d8e3-d9d7291d4153"
      },
      "execution_count": 67,
      "outputs": [
        {
          "output_type": "stream",
          "name": "stdout",
          "text": [
            "jen R\n",
            "sarah c\n",
            "edward ruby\n"
          ]
        }
      ]
    },
    {
      "cell_type": "code",
      "source": [
        "favorite_languages = {\n",
        "    'jen': 'python',\n",
        "    'sarah': 'c',\n",
        "    'edward': 'ruby',\n",
        "    'phil': 'python',\n",
        "    }\n",
        "#Accesing only dictionary keys\n",
        "for key in favorite_languages.keys():\n",
        "  print(key)"
      ],
      "metadata": {
        "colab": {
          "base_uri": "https://localhost:8080/"
        },
        "id": "-CiXwUotX94L",
        "outputId": "ce744ac2-493b-4a5b-8f3a-8c2c6b34cbe9"
      },
      "execution_count": 50,
      "outputs": [
        {
          "output_type": "stream",
          "name": "stdout",
          "text": [
            "jen\n",
            "sarah\n",
            "edward\n",
            "phil\n"
          ]
        }
      ]
    },
    {
      "cell_type": "code",
      "source": [
        "favorite_languages = {\n",
        "    'jen': 'python',\n",
        "    'sarah': 'c',\n",
        "    'edward': 'ruby',\n",
        "    'phil': 'python',\n",
        "    }\n",
        "#accessing only dictionary values\n",
        "for value in favorite_languages.values():\n",
        "  print(value)"
      ],
      "metadata": {
        "colab": {
          "base_uri": "https://localhost:8080/"
        },
        "id": "YLPPmVr2YMMW",
        "outputId": "b7305b23-a701-4235-b04d-5200d72c2eae"
      },
      "execution_count": 51,
      "outputs": [
        {
          "output_type": "stream",
          "name": "stdout",
          "text": [
            "python\n",
            "c\n",
            "ruby\n",
            "python\n"
          ]
        }
      ]
    },
    {
      "cell_type": "code",
      "source": [
        "favorite_languages = {\n",
        "    'jen': 'python',\n",
        "    'sarah': 'c',\n",
        "    'edward': 'ruby',\n",
        "    'phil': 'python',\n",
        "    }\n",
        "\n",
        "print(favorite_languages)\n",
        "print()\n",
        "#Accesing Dict key values using for loops\n",
        "for key, value in favorite_languages.items():\n",
        "  print(key.title()+\"favorite language is \"+value.title())\n"
      ],
      "metadata": {
        "colab": {
          "base_uri": "https://localhost:8080/"
        },
        "id": "3KiG4E1NYYs-",
        "outputId": "248f997e-3a76-4c3d-ce75-1e9018ed0ad9"
      },
      "execution_count": 64,
      "outputs": [
        {
          "output_type": "stream",
          "name": "stdout",
          "text": [
            "{'jen': 'python', 'sarah': 'c', 'edward': 'ruby', 'phil': 'python'}\n",
            "\n",
            "Jenfavorite language is Python\n",
            "Sarahfavorite language is C\n",
            "Edwardfavorite language is Ruby\n",
            "Philfavorite language is Python\n"
          ]
        }
      ]
    },
    {
      "cell_type": "code",
      "source": [
        "users = {\n",
        "'aeinstein': {\n",
        "'first': 'albert',\n",
        "'last': 'einstein',\n",
        "'location': 'princeton',\n",
        "},\n",
        "'mcurie': {\n",
        "'first': 'marie',\n",
        "'last': 'curie',\n",
        "'location': 'paris',\n",
        "},\n",
        "}\n",
        "\n",
        "for name, info in users.items():\n",
        "    full_name = info['first']+\" \"+info[\"last\"]\n",
        "    location = info['location']\n",
        "\n",
        "    print(\"User name: \", name.title())\n",
        "    print(\"\\tname:\"+ full_name.title())\n",
        "    print(\"\\tlocation: \"+location.title())"
      ],
      "metadata": {
        "colab": {
          "base_uri": "https://localhost:8080/"
        },
        "id": "l6cafwVTB7Tf",
        "outputId": "6913c97d-fb7a-4b9d-bbd5-4ceb1e30085c"
      },
      "execution_count": 86,
      "outputs": [
        {
          "output_type": "stream",
          "name": "stdout",
          "text": [
            "User name:  Aeinstein\n",
            "\tname:Albert Einstein\n",
            "\tlocation: Princeton\n",
            "User name:  Mcurie\n",
            "\tname:Marie Curie\n",
            "\tlocation: Paris\n"
          ]
        }
      ]
    }
  ]
}